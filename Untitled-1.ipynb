{
 "cells": [
  {
   "cell_type": "code",
   "execution_count": 2,
   "metadata": {},
   "outputs": [
    {
     "name": "stdout",
     "output_type": "stream",
     "text": [
      "Scraping : Les bases du HTML\n",
      "Scraping : Les bases du CSS\n",
      "Scraping : Les fonctions en Python\n",
      "✅ Fichier généré : fiches_revision_scrapees.json\n"
     ]
    }
   ],
   "source": [
    "from bs4 import BeautifulSoup\n",
    "import requests\n",
    "import json\n",
    "\n",
    "urls = {\n",
    "    \"Les bases du HTML\": \"https://fr.wikipedia.org/wiki/Hypertext_Markup_Language\",\n",
    "    \"Les bases du CSS\": \"https://fr.wikipedia.org/wiki/Feuilles_de_style_en_cascade\",\n",
    "    \"Les fonctions en Python\": \"https://fr.wikipedia.org/wiki/Python_(langage)\"\n",
    "}\n",
    "\n",
    "fiches = []\n",
    "\n",
    "for theme, url in urls.items():\n",
    "    print(f\"Scraping : {theme}\")\n",
    "    response = requests.get(url)\n",
    "    soup = BeautifulSoup(response.content, \"html.parser\")\n",
    "    paragraphs = soup.select(\"p\")\n",
    "\n",
    "    contenu = \"\"\n",
    "    for p in paragraphs:\n",
    "        text = p.get_text().strip()\n",
    "        if (\n",
    "            len(text) > 100 and\n",
    "            not text.lower().startswith(\"cet article\") and\n",
    "            not text.lower().startswith(\"pensez à\") and\n",
    "            \"est un\" in text.lower()\n",
    "        ):\n",
    "            contenu = text\n",
    "            break\n",
    "\n",
    "    fiches.append({\n",
    "        \"theme\": theme,\n",
    "        \"fiche\": contenu\n",
    "    })\n",
    "\n",
    "# Enregistrement du fichier JSON\n",
    "with open(\"fiches_revision_scrapees.json\", \"w\", encoding=\"utf-8\") as f:\n",
    "    json.dump(fiches, f, ensure_ascii=False, indent=2)\n",
    "\n",
    "print(\"✅ Fichier généré : fiches_revision_scrapees.json\")\n"
   ]
  }
 ],
 "metadata": {
  "kernelspec": {
   "display_name": "Python 3",
   "language": "python",
   "name": "python3"
  },
  "language_info": {
   "codemirror_mode": {
    "name": "ipython",
    "version": 3
   },
   "file_extension": ".py",
   "mimetype": "text/x-python",
   "name": "python",
   "nbconvert_exporter": "python",
   "pygments_lexer": "ipython3",
   "version": "3.12.8"
  }
 },
 "nbformat": 4,
 "nbformat_minor": 2
}
